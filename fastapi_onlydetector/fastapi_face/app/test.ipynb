{
 "cells": [
  {
   "cell_type": "code",
   "execution_count": 4,
   "metadata": {},
   "outputs": [
    {
     "name": "stdout",
     "output_type": "stream",
     "text": [
      "<PIL.JpegImagePlugin.JpegImageFile image mode=RGB size=600x450 at 0x7F034C382AC0>\n"
     ]
    }
   ],
   "source": [
    "from PIL import Image\n",
    "\n",
    "image = Image.open('../data/dest_images/kakao2.jpeg')\n",
    "# <PIL.JpegImagePlugin.JpegImageFile image mode=RGB size=600x450 at 0x7F086E0DB280>"
   ]
  },
  {
   "cell_type": "code",
   "execution_count": 5,
   "metadata": {},
   "outputs": [],
   "source": [
    "image = image.convert(\"RGB\")"
   ]
  },
  {
   "cell_type": "code",
   "execution_count": 6,
   "metadata": {},
   "outputs": [
    {
     "name": "stdout",
     "output_type": "stream",
     "text": [
      "<PIL.Image.Image image mode=RGB size=600x450 at 0x7F034C370F70>\n"
     ]
    }
   ],
   "source": [
    "print(image)\n"
   ]
  },
  {
   "cell_type": "code",
   "execution_count": 13,
   "metadata": {},
   "outputs": [
    {
     "name": "stdout",
     "output_type": "stream",
     "text": [
      "[[-35.86761  211.94933   82.33974  356.8034  ]\n",
      " [232.58357  132.47911  286.23203  208.59709 ]\n",
      " [529.3781    91.53727  569.26263  140.48383 ]\n",
      " [470.79102  125.240135 508.9288   173.52531 ]\n",
      " [262.56848   75.16538  294.36047  116.921104]\n",
      " [398.42337  124.349556 431.39294  162.16096 ]\n",
      " [  4.185173  87.63054   36.258656 123.131645]\n",
      " [135.95163  118.55747  165.89163  154.7335  ]\n",
      " [ 44.917484  95.21224   69.773834 124.76916 ]\n",
      " [470.86578   95.01359  493.51846  124.547554]\n",
      " [352.95364  101.220215 370.09363  124.29632 ]\n",
      " [233.431     90.328384 251.61328  112.07997 ]\n",
      " [512.38      96.5832   529.6317   117.98675 ]]\n"
     ]
    }
   ],
   "source": [
    "from facenet_pytorch import MTCNN \n",
    "import torch\n",
    "device = torch.device(\"cuda:0\" if torch.cuda.is_available() else \"cpu\")\n",
    "\n",
    "net = MTCNN(keep_all=True)\n",
    "image = image\n",
    "bboxes, probs = net.detect(image)\n",
    "print(bboxes)"
   ]
  },
  {
   "cell_type": "code",
   "execution_count": null,
   "metadata": {},
   "outputs": [],
   "source": []
  }
 ],
 "metadata": {
  "interpreter": {
   "hash": "fe75d8f5c85d1d2bcf00bb7c3b774f3b57fd01eaa5f54dca43b05b67e8a1bdf2"
  },
  "kernelspec": {
   "display_name": "Python 3.8.0 ('bc')",
   "language": "python",
   "name": "python3"
  },
  "language_info": {
   "codemirror_mode": {
    "name": "ipython",
    "version": 3
   },
   "file_extension": ".py",
   "mimetype": "text/x-python",
   "name": "python",
   "nbconvert_exporter": "python",
   "pygments_lexer": "ipython3",
   "version": "3.8.0"
  },
  "orig_nbformat": 4
 },
 "nbformat": 4,
 "nbformat_minor": 2
}
